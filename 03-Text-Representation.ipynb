{
 "cells": [
  {
   "cell_type": "markdown",
   "id": "f04f9ac9",
   "metadata": {},
   "source": [
    "# Introduction to text representation\n"
   ]
  },
  {
   "cell_type": "markdown",
   "id": "caaec0d9",
   "metadata": {},
   "source": [
    "### basically is the process to convert text into vectors by using Two famous technique BAG OF WORDS and TFIDF"
   ]
  },
  {
   "cell_type": "markdown",
   "id": "74e5ff0a",
   "metadata": {},
   "source": [
    "1. what is feature Extraction from text?\n",
    "2. why do we need it?\n",
    "3. why is it difficult?\n",
    "4. what is the core idea?\n",
    "5. what are the techniques\n"
   ]
  },
  {
   "cell_type": "markdown",
   "id": "846ff1f4",
   "metadata": {},
   "source": [
    "1. Feature Extraction: As we know machine/algorithm can not understand the text data. It only understand number/maths. so\n",
    "The process of converting text as number is called feature Extration.It it also called as text representation or text vectarization. \n",
    "\n",
    "\n",
    "It is to difficult to convert text as number. \n",
    "picture to number easy bacause picture has many pixel value, same for  speech but for text it is difficult\n",
    " "
   ]
  },
  {
   "cell_type": "markdown",
   "id": "0092ab09",
   "metadata": {},
   "source": [
    "## Some technique \n",
    "### Machine Learning based approach\n",
    "1. One Hot Encoding(Ohe)\n",
    "2. Bag Of Word(Bow)\n",
    "3. Ngrams\n",
    "4. TFIDF\n",
    "5. Custom Feature(self made)\n",
    "\n",
    "### Some deep learning based approach\n",
    "1. Word2Vec/Embedding (Word to Vector)\n"
   ]
  },
  {
   "cell_type": "markdown",
   "id": "48ada0cd",
   "metadata": {},
   "source": [
    "some common terms we have to know \n",
    "1.corpus(if we add all the data of any dataset this is called corpus)\n",
    "2. vocabulary (Unique words of corpus )"
   ]
  }
 ],
 "metadata": {
  "kernelspec": {
   "display_name": "mymlvenv",
   "language": "python",
   "name": "python3"
  },
  "language_info": {
   "name": "python",
   "version": "3.13.5"
  }
 },
 "nbformat": 4,
 "nbformat_minor": 5
}
